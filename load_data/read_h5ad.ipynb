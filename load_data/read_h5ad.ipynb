{
 "cells": [
  {
   "cell_type": "code",
   "execution_count": 2,
   "id": "3f3c1b4d-ab1c-4e68-913c-6440b0c5cd9e",
   "metadata": {},
   "outputs": [],
   "source": [
    "import scanpy as sc\n",
    "import pandas as pd"
   ]
  },
  {
   "cell_type": "code",
   "execution_count": 4,
   "id": "68046dfc-7bbf-45a8-8c01-e8114191e77b",
   "metadata": {},
   "outputs": [
    {
     "name": "stderr",
     "output_type": "stream",
     "text": [
      "C:\\Users\\vnmt1\\anaconda3\\Lib\\site-packages\\anndata\\compat\\__init__.py:358: FutureWarning: Moving element from .uns['neighbors']['distances'] to .obsp['distances'].\n",
      "\n",
      "This is where adjacency matrices should go now.\n",
      "  warn(\n",
      "C:\\Users\\vnmt1\\anaconda3\\Lib\\site-packages\\anndata\\compat\\__init__.py:358: FutureWarning: Moving element from .uns['neighbors']['connectivities'] to .obsp['connectivities'].\n",
      "\n",
      "This is where adjacency matrices should go now.\n",
      "  warn(\n"
     ]
    },
    {
     "name": "stdout",
     "output_type": "stream",
     "text": [
      "Metadata fields: Index(['Sample', 'n_counts', 'n_genes', 'batch', 'louvain', 'anno', 'Method',\n",
      "       'Cell type'],\n",
      "      dtype='object')\n"
     ]
    }
   ],
   "source": [
    "# Load .h5ad file\n",
    "adata = sc.read_h5ad(\"../data/PBMC.merged.h5ad\")\n",
    "\n",
    "# Check available metadata columns\n",
    "print(\"Metadata fields:\", adata.obs.columns)\n",
    "\n",
    "# Select relevant metadata columns\n",
    "metadata = adata.obs[[\"batch\", \"Cell type\", \"anno\"]]  # or \"celltype\" if different\n",
    "\n"
   ]
  }
 ],
 "metadata": {
  "kernelspec": {
   "display_name": "Python 3",
   "language": "python",
   "name": "python3"
  },
  "language_info": {
   "codemirror_mode": {
    "name": "ipython",
    "version": 3
   },
   "file_extension": ".py",
   "mimetype": "text/x-python",
   "name": "python",
   "nbconvert_exporter": "python",
   "pygments_lexer": "ipython3",
   "version": "3.11.5"
  }
 },
 "nbformat": 4,
 "nbformat_minor": 5
}
